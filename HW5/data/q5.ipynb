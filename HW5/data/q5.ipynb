{
 "cells": [
  {
   "cell_type": "markdown",
   "id": "781e8d0b",
   "metadata": {},
   "source": [
    "# 5.1 Calculations"
   ]
  },
  {
   "cell_type": "markdown",
   "id": "05059fc8",
   "metadata": {},
   "source": [
    "## Prize Table"
   ]
  },
  {
   "cell_type": "code",
   "execution_count": 1,
   "id": "fa612dab",
   "metadata": {},
   "outputs": [
    {
     "name": "stdout",
     "output_type": "stream",
     "text": [
      "Mutual information for prize: 0.027849732510704966\n"
     ]
    }
   ],
   "source": [
    "import math\n",
    "N = 16860\n",
    "N_11 = 145\n",
    "N_10 = 15 \n",
    "N_1point = 160\n",
    "N_01 = 1200 \n",
    "N_00 = 15500 \n",
    "N_0point = 16700\n",
    "N_point1 = 1345 \n",
    "N_point0 = 15515 \n",
    "\n",
    "I = (((N_11)/(N)) * math.log2((N * N_11)/(N_1point * N_point1)) \n",
    "+ ((N_01)/(N)) * math.log2((N * N_01)/(N_0point * N_point1)) \n",
    "+ ((N_10)/(N)) * math.log2((N * N_10)/(N_1point * N_point0)) \n",
    "+ ((N_00)/(N)) * math.log2((N * N_00)/(N_0point * N_point0)))\n",
    "\n",
    "print(f\"Mutual information for prize: {I}\")"
   ]
  },
  {
   "cell_type": "markdown",
   "id": "6ef442f4",
   "metadata": {},
   "source": [
    "## Hello Table"
   ]
  },
  {
   "cell_type": "code",
   "execution_count": 2,
   "id": "7e7b0be1",
   "metadata": {},
   "outputs": [
    {
     "name": "stdout",
     "output_type": "stream",
     "text": [
      "Mutual information for hello: 0.0012148997117634463\n"
     ]
    }
   ],
   "source": [
    "N = 19190\n",
    "N_11 = 160 \n",
    "N_10 = 30 \n",
    "N_1point = 190\n",
    "N_01 = 12500 \n",
    "N_00 = 6500  \n",
    "N_0point = 19000\n",
    "N_point1 = 12660 \n",
    "N_point0 = 6530 \n",
    "\n",
    "I = (((N_11)/(N)) * math.log2((N * N_11)/(N_1point * N_point1)) \n",
    "+ ((N_01)/(N)) * math.log2((N * N_01)/(N_0point * N_point1)) \n",
    "+ ((N_10)/(N)) * math.log2((N * N_10)/(N_1point * N_point0)) \n",
    "+ ((N_00)/(N)) * math.log2((N * N_00)/(N_0point * N_point0)))\n",
    "print(f\"Mutual information for hello: {I}\")\n"
   ]
  },
  {
   "cell_type": "code",
   "execution_count": null,
   "id": "55b2dd47",
   "metadata": {},
   "outputs": [],
   "source": []
  }
 ],
 "metadata": {
  "kernelspec": {
   "display_name": "Python 3",
   "language": "python",
   "name": "python3"
  },
  "language_info": {
   "codemirror_mode": {
    "name": "ipython",
    "version": 3
   },
   "file_extension": ".py",
   "mimetype": "text/x-python",
   "name": "python",
   "nbconvert_exporter": "python",
   "pygments_lexer": "ipython3",
   "version": "3.9.13"
  }
 },
 "nbformat": 4,
 "nbformat_minor": 5
}
